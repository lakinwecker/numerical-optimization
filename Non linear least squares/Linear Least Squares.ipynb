{
 "cells": [
  {
   "cell_type": "code",
   "execution_count": 3,
   "metadata": {},
   "outputs": [],
   "source": [
    "import os\n",
    "import sys\n",
    "import itertools\n",
    "\n",
    "from __future__ import print_function\n",
    "from ipywidgets import interact, interactive, fixed, interact_manual\n",
    "import ipywidgets as widgets\n",
    "\n",
    "if '..' not in sys.path: sys.path.insert(0, '..')\n",
    "from common import colors"
   ]
  },
  {
   "cell_type": "code",
   "execution_count": 4,
   "metadata": {},
   "outputs": [],
   "source": [
    "import numpy as np\n",
    "import matplotlib.pyplot as plt\n",
    "data = np.array([\n",
    "    [0, 9],\n",
    "    [1, 6],\n",
    "    [2, 5],\n",
    "    [3, 20],\n",
    "    [4, 10],\n",
    "    [5, 20],\n",
    "    [6, 30],\n",
    "    [7, 42],\n",
    "    [8, 24],\n",
    "    [9, 32],\n",
    "    [10, 45],\n",
    "\n",
    "])"
   ]
  },
  {
   "cell_type": "code",
   "execution_count": 5,
   "metadata": {},
   "outputs": [
    {
     "name": "stdout",
     "output_type": "stream",
     "text": [
      "[[ 3.68181818]\n",
      " [ 3.68181818]]\n"
     ]
    },
    {
     "data": {
      "image/png": "[encoded data removed]",
      "text/plain": [
       "<matplotlib.figure.Figure at 0x7f63f4083c18>"
      ]
     },
     "metadata": {},
     "output_type": "display_data"
    }
   ],
   "source": [
    "m = len(data)\n",
    "X = np.array([np.ones(m), data[:, 0]]).T\n",
    "y = np.array(data[:, 1]).reshape(-1, 1)\n",
    "betaHat = np.linalg.solve(X.T.dot(X), X.T.dot(y))\n",
    "print(betaHat)\n",
    "plt.figure(1)\n",
    "xx = np.linspace(0, 10, 5)\n",
    "yy = np.array(betaHat[0] + betaHat[1] * xx)\n",
    "plt.plot(xx, yy.T, color=colors.line_indexed[0])\n",
    "plt.scatter(data[:, 0], data[:, 1], color=colors.line_indexed[1])\n",
    "plt.show()\n"
   ]
  },
  {
   "cell_type": "code",
   "execution_count": 95,
   "metadata": {},
   "outputs": [],
   "source": [
    "class ParametricCurve(object):\n",
    "    def __call__(self, u):\n",
    "        raise NotImplementedError(\"Subclasses must implement this\")\n",
    "        \n",
    "# B-Spline Basis function\n",
    "def N(i, k, x, knots):\n",
    "    T = knots\n",
    "    if k == 0:\n",
    "        if T[i] <= x < T[i+1]:\n",
    "            return 1.0\n",
    "        else:\n",
    "            return 0.0\n",
    "    else:\n",
    "        part1 = 0.0\n",
    "        if (T[i+k] - T[i] != 0.0):\n",
    "            part1 = ((x-T[i])/(T[i+k] - T[i])) * N(i, k-1, x, T)\n",
    "        part2 = 0.0\n",
    "        if (T[i+k+1] - T[i+1] != 0.0):\n",
    "            part2 = ((T[i+k+1] - x)/(T[i+k+1] - T[i+1])) * N(i+1, k-1, x, T)\n",
    "        return part1 + part2\n",
    "      \n",
    "class BSplineCurve(ParametricCurve):\n",
    "    def __init__(self, order, knots, points):\n",
    "        self.order = order\n",
    "        self.p = self.order - 1\n",
    "        self.knots = knots\n",
    "        m = len(self.knots) - 1\n",
    "        self.points = points\n",
    "        n = len(self.points) - 1\n",
    "        assert len(self.points) > self.order\n",
    "        print (m, n)\n",
    "        print (self.p, m - n - 1)\n",
    "        assert self.p == m - n - 1\n",
    "        self.knot_range = (self.knots[-1] - self.knots[0])\n",
    "\n",
    "        \n",
    "    def __call__(self, u):\n",
    "        assert u >= 0.0 and u <= 1.0\n",
    "        t = (u * self.knot_range) + self.knots[0]\n",
    "        final = 0.0\n",
    "        for i, Pi in enumerate(self.points):\n",
    "            basis = N(i, self.p, t, self.knots)\n",
    "            final += basis * Pi\n",
    "        return final\n",
    "    \n",
    "        "
   ]
  },
  {
   "cell_type": "code",
   "execution_count": 100,
   "metadata": {},
   "outputs": [
    {
     "name": "stdout",
     "output_type": "stream",
     "text": [
      "[0, 0, 0, 1, 2, 3, 4, 5, 6, 7, 8, 9, 9, 9]\n",
      "[[ 0  9]\n",
      " [ 1  6]\n",
      " [ 2  5]\n",
      " [ 3 20]\n",
      " [ 4 10]\n",
      " [ 5 20]\n",
      " [ 6 30]\n",
      " [ 7 42]\n",
      " [ 8 24]\n",
      " [ 9 32]\n",
      " [10 45]]\n",
      "13 10\n",
      "2 2\n"
     ]
    },
    {
     "data": {
      "image/png": "[encoded data removed]",
      "text/plain": [
       "<matplotlib.figure.Figure at 0x7f63c2c670f0>"
      ]
     },
     "metadata": {},
     "output_type": "display_data"
    }
   ],
   "source": [
    "xx = np.linspace(0.0, 1.0, 100)\n",
    "order = 3\n",
    "knots = list(range(len(data[:, 0])-order+2))\n",
    "beginning = [0] * (order-1)\n",
    "ending = [knots[-1]] * (order-1)\n",
    "knots = beginning + knots + ending\n",
    "print(knots)\n",
    "print(data)\n",
    "curve = BSplineCurve(order, knots, data)\n",
    "points = []\n",
    "for u in range(0, 1000, 1):\n",
    "    points.append(curve(u/1000.0))\n",
    "\n",
    "plt.plot([p[0] for p in points], [p[1] for p in points], color=colors.line_indexed[2])\n",
    "plt.scatter(data[:, 0], data[:, 1], color=colors.line_indexed[1])\n",
    "#plt.scatter([p[0] for p in points], [p[1] for p in points], color=colors.line_indexed[3])\n",
    "plt.show()\n"
   ]
  },
  {
   "cell_type": "code",
   "execution_count": null,
   "metadata": {},
   "outputs": [],
   "source": []
  },
  {
   "cell_type": "code",
   "execution_count": null,
   "metadata": {},
   "outputs": [],
   "source": []
  }
 ],
 "metadata": {
  "kernelspec": {
   "display_name": "Python 3",
   "language": "python",
   "name": "python3"
  },
  "language_info": {
   "codemirror_mode": {
    "name": "ipython",
    "version": 3
   },
   "file_extension": ".py",
   "mimetype": "text/x-python",
   "name": "python",
   "nbconvert_exporter": "python",
   "pygments_lexer": "ipython3",
   "version": "3.6.2"
  }
 },
 "nbformat": 4,
 "nbformat_minor": 2
}
