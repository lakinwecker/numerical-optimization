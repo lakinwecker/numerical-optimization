{
 "cells": [
  {
   "cell_type": "code",
   "execution_count": 103,
   "metadata": {},
   "outputs": [],
   "source": [
    "import os\n",
    "import sys\n",
    "import itertools\n",
    "\n",
    "from __future__ import print_function\n",
    "from ipywidgets import interact, interactive, fixed, interact_manual\n",
    "import ipywidgets as widgets\n",
    "\n",
    "if '..' not in sys.path: sys.path.insert(0, '..')\n",
    "from common import colors\n",
    "import splines"
   ]
  },
  {
   "cell_type": "code",
   "execution_count": 111,
   "metadata": {},
   "outputs": [],
   "source": [
    "import numpy as np\n",
    "import matplotlib.pyplot as plt\n",
    "data = np.array([\n",
    "    [0, 9],\n",
    "    [1, 6],\n",
    "    [2, 5],\n",
    "    [3, 20],\n",
    "    [4, 10],\n",
    "    [5, 20],\n",
    "    [6, 30],\n",
    "    [7, 42],\n",
    "    [8, 24],\n",
    "    [9, 32],\n",
    "    [10, 45],\n",
    "\n",
    "])"
   ]
  },
  {
   "cell_type": "code",
   "execution_count": 112,
   "metadata": {},
   "outputs": [
    {
     "data": {
      "image/png": "[encoded data removed]",
      "text/plain": [
       "<matplotlib.figure.Figure at 0x7f7c2840e908>"
      ]
     },
     "metadata": {},
     "output_type": "display_data"
    }
   ],
   "source": [
    "m = len(data)\n",
    "X = np.array([np.ones(m), data[:, 0]]).T\n",
    "y = np.array(data[:, 1]).reshape(-1, 1)\n",
    "betaHat = np.linalg.solve(X.T.dot(X), X.T.dot(y))\n",
    "plt.figure(1)\n",
    "xx = np.linspace(0, 10, 5)\n",
    "yy = np.array(betaHat[0] + betaHat[1] * xx)\n",
    "plt.plot(xx, yy.T, color=colors.line_indexed[0])\n",
    "plt.scatter(data[:, 0], data[:, 1], color=colors.line_indexed[1])\n",
    "plt.show()\n"
   ]
  },
  {
   "cell_type": "code",
   "execution_count": 113,
   "metadata": {},
   "outputs": [],
   "source": [
    "def b_spline_A(order, cp_size, data_size):\n",
    "    assert(order <= cp_size)\n",
    "    m = data_size\n",
    "    n = cp_size\n",
    "    knots = splines.uniform_knots(n, order)\n",
    "    knot_range = ((knots[-1]-0.01) - knots[0])\n",
    "\n",
    "    rows = []\n",
    "    for u in range(m):\n",
    "        u = u / float(m-1)\n",
    "        t = (u * knot_range) + knots[0]\n",
    "        rows.append([splines.N(i, order-1, t, knots) for i in range(n)])\n",
    "    A = np.array(rows)\n",
    "    return A"
   ]
  },
  {
   "cell_type": "code",
   "execution_count": 122,
   "metadata": {
    "scrolled": true
   },
   "outputs": [
    {
     "data": {
      "application/vnd.jupyter.widget-view+json": {
       "model_id": "80f905cd8e2d48f8ab37452b9e2ad914",
       "version_major": 2,
       "version_minor": 0
      },
      "text/html": [
       "<p>Failed to display Jupyter Widget of type <code>interactive</code>.</p>\n",
       "<p>\n",
       "  If you're reading this message in Jupyter Notebook or JupyterLab, it may mean\n",
       "  that the widgets JavaScript is still loading. If this message persists, it\n",
       "  likely means that the widgets JavaScript library is either not installed or\n",
       "  not enabled. See the <a href=\"https://ipywidgets.readthedocs.io/en/stable/user_install.html\">Jupyter\n",
       "  Widgets Documentation</a> for setup instructions.\n",
       "</p>\n",
       "<p>\n",
       "  If you're reading this message in another notebook frontend (for example, a static\n",
       "  rendering on GitHub or <a href=\"https://nbviewer.jupyter.org/\">NBViewer</a>),\n",
       "  it may mean that your frontend doesn't currently support widgets.\n",
       "</p>\n"
      ],
      "text/plain": [
       "interactive(children=(IntSlider(value=4, description='order', max=8, min=2), IntSlider(value=5, description='control_points_size', max=15, min=4), Output()), _dom_classes=('widget-interact',))"
      ]
     },
     "metadata": {},
     "output_type": "display_data"
    }
   ],
   "source": [
    "@interact(order=widgets.IntSlider(min=2,max=8,step=1,value=4), control_points_size=widgets.IntSlider(min=4, max=15, value=5))\n",
    "def find_b_spline(order, control_points_size):\n",
    "    m = len(data)\n",
    "    X = b_spline_A(order, control_points_size, m)\n",
    "    y = np.array(data[:, 1]).reshape(-1, 1)\n",
    "    betaHat = np.linalg.solve(X.T.dot(X), X.T.dot(y))\n",
    "    x_min = data[0][0]\n",
    "    x_max = data[-1][0]\n",
    "    x_range = x_max - x_min\n",
    "    y_values = betaHat[:, 0]\n",
    "    step = x_range / (len(y_values)-1)\n",
    "    cur = 0.0\n",
    "    x_values = []\n",
    "    for x in range(len(y_values)):\n",
    "        x_values.append(cur)\n",
    "        cur += step\n",
    "    control_points = np.array(list(zip(x_values, y_values)))\n",
    "    xx = np.linspace(0.0, 1.0, 100)\n",
    "    knots = splines.uniform_knots(len(control_points), order)\n",
    "    curve = splines.BSplineCurve(order, knots, control_points)\n",
    "    points = []\n",
    "    for u in range(0, 1000, 1):\n",
    "        points.append(curve(u/1000.0))\n",
    "        plt.plot([p[0] for p in points], [p[1] for p in points], color=colors.line[\"blue\"])\n",
    "    plt.scatter(data[:, 0], data[:, 1], color=colors.line[\"orange\"])\n",
    "    plt.scatter([p[0] for p in control_points], [p[1] for p in control_points], color=colors.line[\"grey\"])\n",
    "    plt.show()\n",
    "    print(control_points)\n",
    "    "
   ]
  },
  {
   "cell_type": "code",
   "execution_count": null,
   "metadata": {},
   "outputs": [],
   "source": []
  }
 ],
 "metadata": {
  "kernelspec": {
   "display_name": "Python 3",
   "language": "python",
   "name": "python3"
  },
  "language_info": {
   "codemirror_mode": {
    "name": "ipython",
    "version": 3
   },
   "file_extension": ".py",
   "mimetype": "text/x-python",
   "name": "python",
   "nbconvert_exporter": "python",
   "pygments_lexer": "ipython3",
   "version": "3.6.2"
  }
 },
 "nbformat": 4,
 "nbformat_minor": 2
}
