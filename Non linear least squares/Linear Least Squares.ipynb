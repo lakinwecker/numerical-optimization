{
 "cells": [
  {
   "cell_type": "code",
   "execution_count": 91,
   "metadata": {},
   "outputs": [],
   "source": [
    "import os\n",
    "import sys\n",
    "import itertools\n",
    "\n",
    "from __future__ import print_function\n",
    "from ipywidgets import interact, interactive, fixed, interact_manual\n",
    "import ipywidgets as widgets\n",
    "\n",
    "if '..' not in sys.path: sys.path.insert(0, '..')\n",
    "from common import colors\n",
    "import splines"
   ]
  },
  {
   "cell_type": "code",
   "execution_count": 92,
   "metadata": {},
   "outputs": [],
   "source": [
    "import numpy as np\n",
    "import matplotlib.pyplot as plt\n",
    "data = np.array([\n",
    "    [0, 9],\n",
    "    [1, 6],\n",
    "    [2, 5],\n",
    "    [3, 20],\n",
    "    [4, 10],\n",
    "    [5, 20],\n",
    "    [6, 30],\n",
    "    [7, 42],\n",
    "    [8, 24],\n",
    "    [9, 32],\n",
    "    [10, 45],\n",
    "\n",
    "])\n",
    "order = 3"
   ]
  },
  {
   "cell_type": "code",
   "execution_count": 93,
   "metadata": {},
   "outputs": [
    {
     "data": {
      "image/png": "[encoded data removed]",
      "text/plain": [
       "<matplotlib.figure.Figure at 0x7f7c289fba58>"
      ]
     },
     "metadata": {},
     "output_type": "display_data"
    }
   ],
   "source": [
    "m = len(data)\n",
    "X = np.array([np.ones(m), data[:, 0]]).T\n",
    "y = np.array(data[:, 1]).reshape(-1, 1)\n",
    "betaHat = np.linalg.solve(X.T.dot(X), X.T.dot(y))\n",
    "plt.figure(1)\n",
    "xx = np.linspace(0, 10, 5)\n",
    "yy = np.array(betaHat[0] + betaHat[1] * xx)\n",
    "plt.plot(xx, yy.T, color=colors.line_indexed[0])\n",
    "plt.scatter(data[:, 0], data[:, 1], color=colors.line_indexed[1])\n",
    "plt.show()\n"
   ]
  },
  {
   "cell_type": "code",
   "execution_count": 97,
   "metadata": {},
   "outputs": [],
   "source": [
    "def b_spline_A(order, cp_size, data_size):\n",
    "    assert(order <= cp_size)\n",
    "    m = data_size\n",
    "    n = cp_size\n",
    "    knots = splines.uniform_knots(n, order)\n",
    "    print(knots)\n",
    "    knot_range = ((knots[-1]-0.01) - knots[0])\n",
    "\n",
    "    rows = []\n",
    "    for u in range(m):\n",
    "        u = u / float(m-1)\n",
    "        t = (u * knot_range) + knots[0]\n",
    "        rows.append([splines.N(i, order-1, t, knots) for i in range(n)])\n",
    "    A = np.array(rows)\n",
    "    return A"
   ]
  },
  {
   "cell_type": "code",
   "execution_count": 100,
   "metadata": {
    "scrolled": true
   },
   "outputs": [
    {
     "name": "stdout",
     "output_type": "stream",
     "text": [
      "[0, 0, 0, 1, 2, 3, 4, 5, 6, 6, 6]\n",
      "[[  1.00000000e+00   0.00000000e+00   0.00000000e+00   0.00000000e+00\n",
      "    0.00000000e+00   0.00000000e+00   0.00000000e+00   0.00000000e+00]\n",
      " [  1.60801000e-01   6.59798500e-01   1.79400500e-01   0.00000000e+00\n",
      "    0.00000000e+00   0.00000000e+00   0.00000000e+00   0.00000000e+00]\n",
      " [  0.00000000e+00   3.21602000e-01   6.58796000e-01   1.96020000e-02\n",
      "    0.00000000e+00   0.00000000e+00   0.00000000e+00   0.00000000e+00]\n",
      " [  0.00000000e+00   2.06045000e-02   6.61791000e-01   3.17604500e-01\n",
      "    0.00000000e+00   0.00000000e+00   0.00000000e+00   0.00000000e+00]\n",
      " [  0.00000000e+00   0.00000000e+00   1.82408000e-01   7.39184000e-01\n",
      "    7.84080000e-02   0.00000000e+00   0.00000000e+00   0.00000000e+00]\n",
      " [  0.00000000e+00   0.00000000e+00   1.25000000e-05   5.04975000e-01\n",
      "    4.95012500e-01   0.00000000e+00   0.00000000e+00   0.00000000e+00]\n",
      " [  0.00000000e+00   0.00000000e+00   0.00000000e+00   8.24180000e-02\n",
      "    7.41164000e-01   1.76418000e-01   0.00000000e+00   0.00000000e+00]\n",
      " [  0.00000000e+00   0.00000000e+00   0.00000000e+00   0.00000000e+00\n",
      "    3.25624500e-01   6.55751000e-01   1.86245000e-02   0.00000000e+00]\n",
      " [  0.00000000e+00   0.00000000e+00   0.00000000e+00   0.00000000e+00\n",
      "    2.16320000e-02   6.64736000e-01   3.13632000e-01   0.00000000e+00]\n",
      " [  0.00000000e+00   0.00000000e+00   0.00000000e+00   0.00000000e+00\n",
      "    0.00000000e+00   1.85440500e-01   6.61678500e-01   1.52881000e-01]\n",
      " [  0.00000000e+00   0.00000000e+00   0.00000000e+00   0.00000000e+00\n",
      "    0.00000000e+00   5.00000000e-05   1.98500000e-02   9.80100000e-01]]\n"
     ]
    }
   ],
   "source": [
    "m = len(data)\n",
    "X = b_spline_A(order, m-3, m)\n",
    "print(X)\n",
    "y = np.array(data[:, 1]).reshape(-1, 1)\n",
    "betaHat = np.linalg.solve(X.T.dot(X), X.T.dot(y))"
   ]
  },
  {
   "cell_type": "code",
   "execution_count": 102,
   "metadata": {},
   "outputs": [
    {
     "data": {
      "image/png": "[encoded data removed]",
      "text/plain": [
       "<matplotlib.figure.Figure at 0x7f7c2891bf98>"
      ]
     },
     "metadata": {},
     "output_type": "display_data"
    },
    {
     "name": "stdout",
     "output_type": "stream",
     "text": [
      "[  9.45474614  -2.36052208  17.88808059   7.57235552  34.25307149\n",
      "  35.42038332  22.77227352  45.98128714]\n",
      "[[  0.           9.45474614]\n",
      " [  1.42857143  -2.36052208]\n",
      " [  2.85714286  17.88808059]\n",
      " [  4.28571429   7.57235552]\n",
      " [  5.71428571  34.25307149]\n",
      " [  7.14285714  35.42038332]\n",
      " [  8.57142857  22.77227352]\n",
      " [ 10.          45.98128714]]\n"
     ]
    }
   ],
   "source": [
    "x_min = data[0][0]\n",
    "x_max = data[-1][0]\n",
    "x_range = x_max - x_min\n",
    "y_values = betaHat[:, 0]\n",
    "step = x_range / (len(y_values)-1)\n",
    "cur = 0.0\n",
    "x_values = []\n",
    "for x in range(len(y_values)):\n",
    "    x_values.append(cur)\n",
    "    cur += step\n",
    "control_points = np.array(list(zip(x_values, y_values)))\n",
    "xx = np.linspace(0.0, 1.0, 100)\n",
    "knots = splines.uniform_knots(len(control_points), order)\n",
    "curve = splines.BSplineCurve(order, knots, control_points)\n",
    "points = []\n",
    "for u in range(0, 1000, 1):\n",
    "    points.append(curve(u/1000.0))\n",
    "    plt.plot([p[0] for p in points], [p[1] for p in points], color=colors.line[\"blue\"])\n",
    "plt.scatter(data[:, 0], data[:, 1], color=colors.line[\"orange\"])\n",
    "plt.scatter([p[0] for p in control_points], [p[1] for p in control_points], color=colors.line[\"grey\"])\n",
    "plt.show()\n",
    "print(betaHat[:, 0])\n",
    "print(control_points)"
   ]
  },
  {
   "cell_type": "code",
   "execution_count": null,
   "metadata": {},
   "outputs": [],
   "source": []
  }
 ],
 "metadata": {
  "kernelspec": {
   "display_name": "Python 3",
   "language": "python",
   "name": "python3"
  },
  "language_info": {
   "codemirror_mode": {
    "name": "ipython",
    "version": 3
   },
   "file_extension": ".py",
   "mimetype": "text/x-python",
   "name": "python",
   "nbconvert_exporter": "python",
   "pygments_lexer": "ipython3",
   "version": "3.6.2"
  }
 },
 "nbformat": 4,
 "nbformat_minor": 2
}
