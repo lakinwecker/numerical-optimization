{
 "cells": [
  {
   "cell_type": "code",
   "execution_count": 26,
   "metadata": {},
   "outputs": [],
   "source": [
    "import os\n",
    "import sys\n",
    "import itertools\n",
    "\n",
    "from __future__ import print_function\n",
    "from ipywidgets import interact, interactive, fixed, interact_manual\n",
    "import ipywidgets as widgets\n",
    "\n",
    "if '..' not in sys.path: sys.path.insert(0, '..')\n",
    "from common import colors"
   ]
  },
  {
   "cell_type": "code",
   "execution_count": 27,
   "metadata": {},
   "outputs": [],
   "source": [
    "import numpy as np\n",
    "import matplotlib.pyplot as plt\n",
    "data = np.array([\n",
    "    [0, 9],\n",
    "    [1, 6],\n",
    "    [2, 5],\n",
    "    [3, 20],\n",
    "    [4, 10],\n",
    "    [5, 20],\n",
    "    [6, 30],\n",
    "    [7, 42],\n",
    "    [8, 24],\n",
    "    [9, 32],\n",
    "    [10, 45],\n",
    "\n",
    "])\n",
    "order = 3"
   ]
  },
  {
   "cell_type": "code",
   "execution_count": 28,
   "metadata": {},
   "outputs": [
    {
     "data": {
      "image/png": "[encoded data removed]",
      "text/plain": [
       "<matplotlib.figure.Figure at 0x7f7c28a14390>"
      ]
     },
     "metadata": {},
     "output_type": "display_data"
    }
   ],
   "source": [
    "m = len(data)\n",
    "X = np.array([np.ones(m), data[:, 0]]).T\n",
    "y = np.array(data[:, 1]).reshape(-1, 1)\n",
    "betaHat = np.linalg.solve(X.T.dot(X), X.T.dot(y))\n",
    "plt.figure(1)\n",
    "xx = np.linspace(0, 10, 5)\n",
    "yy = np.array(betaHat[0] + betaHat[1] * xx)\n",
    "plt.plot(xx, yy.T, color=colors.line_indexed[0])\n",
    "plt.scatter(data[:, 0], data[:, 1], color=colors.line_indexed[1])\n",
    "plt.show()\n"
   ]
  },
  {
   "cell_type": "code",
   "execution_count": 50,
   "metadata": {},
   "outputs": [],
   "source": [
    "class ParametricCurve(object):\n",
    "    def __call__(self, u):\n",
    "        raise NotImplementedError(\"Subclasses must implement this\")\n",
    "        \n",
    "# B-Spline Basis function\n",
    "def N(i, k, x, knots):\n",
    "    T = knots\n",
    "    if k == 0:\n",
    "        if T[i] <= x < T[i+1]:\n",
    "            return 1.0\n",
    "        else:\n",
    "            return 0.0\n",
    "    else:\n",
    "        part1 = 0.0\n",
    "        if (T[i+k] - T[i] != 0.0):\n",
    "            part1 = ((x-T[i])/(T[i+k] - T[i])) * N(i, k-1, x, T)\n",
    "        part2 = 0.0\n",
    "        if (T[i+k+1] - T[i+1] != 0.0):\n",
    "            part2 = ((T[i+k+1] - x)/(T[i+k+1] - T[i+1])) * N(i+1, k-1, x, T)\n",
    "        return part1 + part2\n",
    "      \n",
    "class BSplineCurve(ParametricCurve):\n",
    "    def __init__(self, order, knots, points):\n",
    "        self.order = order\n",
    "        self.p = self.order - 1\n",
    "        self.knots = knots\n",
    "        m = len(self.knots) - 1\n",
    "        self.points = points\n",
    "        n = len(self.points) - 1\n",
    "        assert len(self.points) > self.order, \"Number of points: {} must be > than order: {}\".format(len(self.points), self.order)\n",
    "        assert self.p == m - n - 1, \"p == m - n - 1 ... {} == {} - {} - 1\".format(self.p, m, n)\n",
    "        self.knot_range = (self.knots[-1] - self.knots[0])\n",
    "\n",
    "        \n",
    "    def __call__(self, u):\n",
    "        assert u >= 0.0 and u <= 1.0\n",
    "        t = (u * self.knot_range) + self.knots[0]\n",
    "        final = 0.0\n",
    "        for i, Pi in enumerate(self.points):\n",
    "            basis = N(i, self.p, t, self.knots)\n",
    "            final += basis * Pi\n",
    "        return final\n",
    "    \n",
    "def uniform_knots(n, order):\n",
    "    knots = list(range(n-order+2))\n",
    "    beginning = [0] * (order-1)\n",
    "    ending = [knots[-1]] * (order-1)\n",
    "    return beginning + knots + ending"
   ]
  },
  {
   "cell_type": "code",
   "execution_count": 51,
   "metadata": {},
   "outputs": [],
   "source": [
    "def b_spline_A(order, cp_size, data_size):\n",
    "    assert(order <= cp_size)\n",
    "    m = data_size\n",
    "    n = cp_size\n",
    "    knots = uniform_knots(n, order)\n",
    "    print(knots)\n",
    "    knot_range = ((knots[-1]-0.01) - (knots[0]+0.01))\n",
    "\n",
    "    rows = []\n",
    "    for u in range(m):\n",
    "        u = u / float(m-1)\n",
    "        t = (u * knot_range) + knots[0]\n",
    "        rows.append([N(i, order-1, t, knots) for i in range(n)])\n",
    "    A = np.array(rows)\n",
    "    return A"
   ]
  },
  {
   "cell_type": "code",
   "execution_count": 80,
   "metadata": {
    "scrolled": true
   },
   "outputs": [
    {
     "name": "stdout",
     "output_type": "stream",
     "text": [
      "[0, 0, 0, 1, 2, 3, 4, 5, 6, 7, 8, 9, 10, 11, 12, 13, 14, 15, 16, 17, 17, 17]\n",
      "[[  1.00000000e+00   0.00000000e+00   0.00000000e+00   0.00000000e+00\n",
      "    0.00000000e+00   0.00000000e+00   0.00000000e+00   0.00000000e+00\n",
      "    0.00000000e+00   0.00000000e+00   0.00000000e+00   0.00000000e+00\n",
      "    0.00000000e+00   0.00000000e+00   0.00000000e+00   0.00000000e+00\n",
      "    0.00000000e+00   0.00000000e+00   0.00000000e+00]\n",
      " [  0.00000000e+00   4.56020000e-02   7.10796000e-01   2.43602000e-01\n",
      "    0.00000000e+00   0.00000000e+00   0.00000000e+00   0.00000000e+00\n",
      "    0.00000000e+00   0.00000000e+00   0.00000000e+00   0.00000000e+00\n",
      "    0.00000000e+00   0.00000000e+00   0.00000000e+00   0.00000000e+00\n",
      "    0.00000000e+00   0.00000000e+00   0.00000000e+00]\n",
      " [  0.00000000e+00   0.00000000e+00   0.00000000e+00   1.82408000e-01\n",
      "    7.39184000e-01   7.84080000e-02   0.00000000e+00   0.00000000e+00\n",
      "    0.00000000e+00   0.00000000e+00   0.00000000e+00   0.00000000e+00\n",
      "    0.00000000e+00   0.00000000e+00   0.00000000e+00   0.00000000e+00\n",
      "    0.00000000e+00   0.00000000e+00   0.00000000e+00]\n",
      " [  0.00000000e+00   0.00000000e+00   0.00000000e+00   0.00000000e+00\n",
      "    0.00000000e+00   4.10418000e-01   5.85164000e-01   4.41800000e-03\n",
      "    0.00000000e+00   0.00000000e+00   0.00000000e+00   0.00000000e+00\n",
      "    0.00000000e+00   0.00000000e+00   0.00000000e+00   0.00000000e+00\n",
      "    0.00000000e+00   0.00000000e+00   0.00000000e+00]\n",
      " [  0.00000000e+00   0.00000000e+00   0.00000000e+00   0.00000000e+00\n",
      "    0.00000000e+00   0.00000000e+00   2.16320000e-02   6.64736000e-01\n",
      "    3.13632000e-01   0.00000000e+00   0.00000000e+00   0.00000000e+00\n",
      "    0.00000000e+00   0.00000000e+00   0.00000000e+00   0.00000000e+00\n",
      "    0.00000000e+00   0.00000000e+00   0.00000000e+00]\n",
      " [  0.00000000e+00   0.00000000e+00   0.00000000e+00   0.00000000e+00\n",
      "    0.00000000e+00   0.00000000e+00   0.00000000e+00   0.00000000e+00\n",
      "    1.30050000e-01   7.49900000e-01   1.20050000e-01   0.00000000e+00\n",
      "    0.00000000e+00   0.00000000e+00   0.00000000e+00   0.00000000e+00\n",
      "    0.00000000e+00   0.00000000e+00   0.00000000e+00]\n",
      " [  0.00000000e+00   0.00000000e+00   0.00000000e+00   0.00000000e+00\n",
      "    0.00000000e+00   0.00000000e+00   0.00000000e+00   0.00000000e+00\n",
      "    0.00000000e+00   0.00000000e+00   3.29672000e-01   6.52656000e-01\n",
      "    1.76720000e-02   0.00000000e+00   0.00000000e+00   0.00000000e+00\n",
      "    0.00000000e+00   0.00000000e+00   0.00000000e+00]\n",
      " [  0.00000000e+00   0.00000000e+00   0.00000000e+00   0.00000000e+00\n",
      "    0.00000000e+00   0.00000000e+00   0.00000000e+00   0.00000000e+00\n",
      "    0.00000000e+00   0.00000000e+00   0.00000000e+00   6.49800000e-03\n",
      "    6.01004000e-01   3.92498000e-01   0.00000000e+00   0.00000000e+00\n",
      "    0.00000000e+00   0.00000000e+00   0.00000000e+00]\n",
      " [  0.00000000e+00   0.00000000e+00   0.00000000e+00   0.00000000e+00\n",
      "    0.00000000e+00   0.00000000e+00   0.00000000e+00   0.00000000e+00\n",
      "    0.00000000e+00   0.00000000e+00   0.00000000e+00   0.00000000e+00\n",
      "    0.00000000e+00   8.65280000e-02   7.42944000e-01   1.70528000e-01\n",
      "    0.00000000e+00   0.00000000e+00   0.00000000e+00]\n",
      " [  0.00000000e+00   0.00000000e+00   0.00000000e+00   0.00000000e+00\n",
      "    0.00000000e+00   0.00000000e+00   0.00000000e+00   0.00000000e+00\n",
      "    0.00000000e+00   0.00000000e+00   0.00000000e+00   0.00000000e+00\n",
      "    0.00000000e+00   0.00000000e+00   0.00000000e+00   2.57762000e-01\n",
      "    7.02476000e-01   3.97620000e-02   0.00000000e+00]\n",
      " [  0.00000000e+00   0.00000000e+00   0.00000000e+00   0.00000000e+00\n",
      "    0.00000000e+00   0.00000000e+00   0.00000000e+00   0.00000000e+00\n",
      "    0.00000000e+00   0.00000000e+00   0.00000000e+00   0.00000000e+00\n",
      "    0.00000000e+00   0.00000000e+00   0.00000000e+00   0.00000000e+00\n",
      "    2.00000000e-04   3.94000000e-02   9.60400000e-01]]\n"
     ]
    },
    {
     "ename": "LinAlgError",
     "evalue": "Singular matrix",
     "output_type": "error",
     "traceback": [
      "\u001b[0;31m---------------------------------------------------------------------------\u001b[0m",
      "\u001b[0;31mLinAlgError\u001b[0m                               Traceback (most recent call last)",
      "\u001b[0;32m<ipython-input-80-b8ef3ad77b3d>\u001b[0m in \u001b[0;36m<module>\u001b[0;34m()\u001b[0m\n\u001b[1;32m      3\u001b[0m \u001b[0mprint\u001b[0m\u001b[0;34m(\u001b[0m\u001b[0mX\u001b[0m\u001b[0;34m)\u001b[0m\u001b[0;34m\u001b[0m\u001b[0m\n\u001b[1;32m      4\u001b[0m \u001b[0my\u001b[0m \u001b[0;34m=\u001b[0m \u001b[0mnp\u001b[0m\u001b[0;34m.\u001b[0m\u001b[0marray\u001b[0m\u001b[0;34m(\u001b[0m\u001b[0mdata\u001b[0m\u001b[0;34m[\u001b[0m\u001b[0;34m:\u001b[0m\u001b[0;34m,\u001b[0m \u001b[0;36m1\u001b[0m\u001b[0;34m]\u001b[0m\u001b[0;34m)\u001b[0m\u001b[0;34m.\u001b[0m\u001b[0mreshape\u001b[0m\u001b[0;34m(\u001b[0m\u001b[0;34m-\u001b[0m\u001b[0;36m1\u001b[0m\u001b[0;34m,\u001b[0m \u001b[0;36m1\u001b[0m\u001b[0;34m)\u001b[0m\u001b[0;34m\u001b[0m\u001b[0m\n\u001b[0;32m----> 5\u001b[0;31m \u001b[0mbetaHat\u001b[0m \u001b[0;34m=\u001b[0m \u001b[0mnp\u001b[0m\u001b[0;34m.\u001b[0m\u001b[0mlinalg\u001b[0m\u001b[0;34m.\u001b[0m\u001b[0msolve\u001b[0m\u001b[0;34m(\u001b[0m\u001b[0mX\u001b[0m\u001b[0;34m.\u001b[0m\u001b[0mT\u001b[0m\u001b[0;34m.\u001b[0m\u001b[0mdot\u001b[0m\u001b[0;34m(\u001b[0m\u001b[0mX\u001b[0m\u001b[0;34m)\u001b[0m\u001b[0;34m,\u001b[0m \u001b[0mX\u001b[0m\u001b[0;34m.\u001b[0m\u001b[0mT\u001b[0m\u001b[0;34m.\u001b[0m\u001b[0mdot\u001b[0m\u001b[0;34m(\u001b[0m\u001b[0my\u001b[0m\u001b[0;34m)\u001b[0m\u001b[0;34m)\u001b[0m\u001b[0;34m\u001b[0m\u001b[0m\n\u001b[0m\u001b[1;32m      6\u001b[0m \u001b[0mprint\u001b[0m\u001b[0;34m(\u001b[0m\u001b[0mbetaHat\u001b[0m\u001b[0;34m)\u001b[0m\u001b[0;34m\u001b[0m\u001b[0m\n",
      "\u001b[0;32m/media/Crypt/School-Repos/numerical-optimization/env/lib/python3.6/site-packages/numpy/linalg/linalg.py\u001b[0m in \u001b[0;36msolve\u001b[0;34m(a, b)\u001b[0m\n\u001b[1;32m    373\u001b[0m     \u001b[0msignature\u001b[0m \u001b[0;34m=\u001b[0m \u001b[0;34m'DD->D'\u001b[0m \u001b[0;32mif\u001b[0m \u001b[0misComplexType\u001b[0m\u001b[0;34m(\u001b[0m\u001b[0mt\u001b[0m\u001b[0;34m)\u001b[0m \u001b[0;32melse\u001b[0m \u001b[0;34m'dd->d'\u001b[0m\u001b[0;34m\u001b[0m\u001b[0m\n\u001b[1;32m    374\u001b[0m     \u001b[0mextobj\u001b[0m \u001b[0;34m=\u001b[0m \u001b[0mget_linalg_error_extobj\u001b[0m\u001b[0;34m(\u001b[0m\u001b[0m_raise_linalgerror_singular\u001b[0m\u001b[0;34m)\u001b[0m\u001b[0;34m\u001b[0m\u001b[0m\n\u001b[0;32m--> 375\u001b[0;31m     \u001b[0mr\u001b[0m \u001b[0;34m=\u001b[0m \u001b[0mgufunc\u001b[0m\u001b[0;34m(\u001b[0m\u001b[0ma\u001b[0m\u001b[0;34m,\u001b[0m \u001b[0mb\u001b[0m\u001b[0;34m,\u001b[0m \u001b[0msignature\u001b[0m\u001b[0;34m=\u001b[0m\u001b[0msignature\u001b[0m\u001b[0;34m,\u001b[0m \u001b[0mextobj\u001b[0m\u001b[0;34m=\u001b[0m\u001b[0mextobj\u001b[0m\u001b[0;34m)\u001b[0m\u001b[0;34m\u001b[0m\u001b[0m\n\u001b[0m\u001b[1;32m    376\u001b[0m \u001b[0;34m\u001b[0m\u001b[0m\n\u001b[1;32m    377\u001b[0m     \u001b[0;32mreturn\u001b[0m \u001b[0mwrap\u001b[0m\u001b[0;34m(\u001b[0m\u001b[0mr\u001b[0m\u001b[0;34m.\u001b[0m\u001b[0mastype\u001b[0m\u001b[0;34m(\u001b[0m\u001b[0mresult_t\u001b[0m\u001b[0;34m,\u001b[0m \u001b[0mcopy\u001b[0m\u001b[0;34m=\u001b[0m\u001b[0;32mFalse\u001b[0m\u001b[0;34m)\u001b[0m\u001b[0;34m)\u001b[0m\u001b[0;34m\u001b[0m\u001b[0m\n",
      "\u001b[0;32m/media/Crypt/School-Repos/numerical-optimization/env/lib/python3.6/site-packages/numpy/linalg/linalg.py\u001b[0m in \u001b[0;36m_raise_linalgerror_singular\u001b[0;34m(err, flag)\u001b[0m\n\u001b[1;32m     88\u001b[0m \u001b[0;34m\u001b[0m\u001b[0m\n\u001b[1;32m     89\u001b[0m \u001b[0;32mdef\u001b[0m \u001b[0m_raise_linalgerror_singular\u001b[0m\u001b[0;34m(\u001b[0m\u001b[0merr\u001b[0m\u001b[0;34m,\u001b[0m \u001b[0mflag\u001b[0m\u001b[0;34m)\u001b[0m\u001b[0;34m:\u001b[0m\u001b[0;34m\u001b[0m\u001b[0m\n\u001b[0;32m---> 90\u001b[0;31m     \u001b[0;32mraise\u001b[0m \u001b[0mLinAlgError\u001b[0m\u001b[0;34m(\u001b[0m\u001b[0;34m\"Singular matrix\"\u001b[0m\u001b[0;34m)\u001b[0m\u001b[0;34m\u001b[0m\u001b[0m\n\u001b[0m\u001b[1;32m     91\u001b[0m \u001b[0;34m\u001b[0m\u001b[0m\n\u001b[1;32m     92\u001b[0m \u001b[0;32mdef\u001b[0m \u001b[0m_raise_linalgerror_nonposdef\u001b[0m\u001b[0;34m(\u001b[0m\u001b[0merr\u001b[0m\u001b[0;34m,\u001b[0m \u001b[0mflag\u001b[0m\u001b[0;34m)\u001b[0m\u001b[0;34m:\u001b[0m\u001b[0;34m\u001b[0m\u001b[0m\n",
      "\u001b[0;31mLinAlgError\u001b[0m: Singular matrix"
     ]
    }
   ],
   "source": [
    "m = len(data)\n",
    "X = b_spline_A(order, m+8, m)\n",
    "print(X)\n",
    "y = np.array(data[:, 1]).reshape(-1, 1)\n",
    "betaHat = np.linalg.solve(X.T.dot(X), X.T.dot(y))\n",
    "print(betaHat)"
   ]
  },
  {
   "cell_type": "code",
   "execution_count": 81,
   "metadata": {},
   "outputs": [
    {
     "name": "stdout",
     "output_type": "stream",
     "text": [
      "1000 17\n"
     ]
    },
    {
     "data": {
      "image/png": "[encoded data removed]",
      "text/plain": [
       "<matplotlib.figure.Figure at 0x7f7c2839da58>"
      ]
     },
     "metadata": {},
     "output_type": "display_data"
    },
    {
     "name": "stdout",
     "output_type": "stream",
     "text": [
      "[   9.          -36.21201798   26.89116398   -3.5676898    34.84358456\n",
      "  -31.35036473   95.92764651  -58.99793784   74.7452386    37.74557054\n",
      "    1.23540959  116.20444225 -150.25295956   52.99534123]\n",
      "[[   0.            9.        ]\n",
      " [   0.76923077  -36.21201798]\n",
      " [   1.53846154   26.89116398]\n",
      " [   2.30769231   -3.5676898 ]\n",
      " [   3.07692308   34.84358456]\n",
      " [   3.84615385  -31.35036473]\n",
      " [   4.61538462   95.92764651]\n",
      " [   5.38461538  -58.99793784]\n",
      " [   6.15384615   74.7452386 ]\n",
      " [   6.92307692   37.74557054]\n",
      " [   7.69230769    1.23540959]\n",
      " [   8.46153846  116.20444225]\n",
      " [   9.23076923 -150.25295956]\n",
      " [  10.           52.99534123]]\n"
     ]
    }
   ],
   "source": [
    "x_min = data[0][0]\n",
    "x_max = data[-1][0]\n",
    "x_range = x_max - x_min\n",
    "y_values = betaHat[:, 0]\n",
    "step = x_range / (len(y_values)-1)\n",
    "cur = 0.0\n",
    "x_values = []\n",
    "for x in range(len(y_values)):\n",
    "    x_values.append(cur)\n",
    "    cur += step\n",
    "control_points = np.array(list(zip(x_values, y_values)))\n",
    "xx = np.linspace(0.0, 1.0, 100)\n",
    "knots = uniform_knots(len(control_points), order)\n",
    "print(len(points), len(knots))\n",
    "curve = BSplineCurve(order, knots, control_points)\n",
    "points = []\n",
    "for u in range(0, 1000, 1):\n",
    "    points.append(curve(u/1000.0))\n",
    "    plt.plot([p[0] for p in points], [p[1] for p in points], color=colors.line[\"blue\"])\n",
    "plt.scatter(data[:, 0], data[:, 1], color=colors.line[\"orange\"])\n",
    "plt.scatter([p[0] for p in control_points], [p[1] for p in control_points], color=colors.line[\"grey\"])\n",
    "plt.show()\n",
    "print(betaHat[:, 0])\n",
    "print(control_points)"
   ]
  },
  {
   "cell_type": "code",
   "execution_count": null,
   "metadata": {},
   "outputs": [],
   "source": []
  },
  {
   "cell_type": "code",
   "execution_count": null,
   "metadata": {},
   "outputs": [],
   "source": []
  }
 ],
 "metadata": {
  "kernelspec": {
   "display_name": "Python 3",
   "language": "python",
   "name": "python3"
  },
  "language_info": {
   "codemirror_mode": {
    "name": "ipython",
    "version": 3
   },
   "file_extension": ".py",
   "mimetype": "text/x-python",
   "name": "python",
   "nbconvert_exporter": "python",
   "pygments_lexer": "ipython3",
   "version": "3.6.2"
  }
 },
 "nbformat": 4,
 "nbformat_minor": 2
}
